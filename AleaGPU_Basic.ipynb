{
 "cells": [
  {
   "cell_type": "code",
   "execution_count": 1,
   "metadata": {
    "collapsed": false
   },
   "outputs": [
    {
     "data": {
      "text/plain": [
       "<null>"
      ]
     },
     "execution_count": 1,
     "metadata": {},
     "output_type": "execute_result"
    }
   ],
   "source": [
    "#load \"Paket.fsx\"\n",
    "Paket.Package [\"Alea\"; \"NUnit\"]"
   ]
  },
  {
   "cell_type": "code",
   "execution_count": 2,
   "metadata": {
    "collapsed": true
   },
   "outputs": [],
   "source": [
    "#load \"packages/Alea/Alea.fsx\"\n",
    "#r \"packages/NUnit/lib/net45/nunit.framework.dll\""
   ]
  },
  {
   "cell_type": "code",
   "execution_count": 3,
   "metadata": {
    "collapsed": true
   },
   "outputs": [],
   "source": [
    "open System\n",
    "open Alea\n",
    "open Alea.FSharp\n",
    "open NUnit.Framework\n",
    "\n",
    "let length = 1000000\n",
    "\n",
    "let kernel =\n",
    "    <@ fun (result:int[]) (arg1:int[]) (arg2:int[]) ->\n",
    "        let start = blockIdx.x * blockDim.x + threadIdx.x\n",
    "        let stride = gridDim.x * blockDim.x\n",
    "        let mutable i = start\n",
    "        while i < result.Length do\n",
    "            result.[i] <- arg1.[i] + arg2.[i]\n",
    "            i <- i + stride @>\n",
    "    |> Compiler.makeKernel"
   ]
  },
  {
   "cell_type": "code",
   "execution_count": 9,
   "metadata": {
    "collapsed": false
   },
   "outputs": [
    {
     "data": {
      "text/plain": [
       "[|0; 2; 4; 6; 8; 10; 12; 14; 16; 18; 20; 22; 24; 26; 28; 30; 32; 34; 36; 38; 40;\n",
       "  42; 44; 46; 48; 50; 52; 54; 56; 58; 60; 62; 64; 66; 68; 70; 72; 74; 76; 78; 80;\n",
       "  82; 84; 86; 88; 90; 92; 94; 96; 98; 100; 102; 104; 106; 108; 110; 112; 114;\n",
       "  116; 118; 120; 122; 124; 126; 128; 130; 132; 134; 136; 138; 140; 142; 144; 146;\n",
       "  148; 150; 152; 154; 156; 158; 160; 162; 164; 166; 168; 170; 172; 174; 176; 178;\n",
       "  180; 182; 184; 186; 188; 190; 192; 194; 196; 198; ...|]"
      ]
     },
     "execution_count": 9,
     "metadata": {},
     "output_type": "execute_result"
    }
   ],
   "source": [
    "let harg1 = Array.init length id\n",
    "let harg2 = Array.init length id\n",
    "\n",
    "let gpu = Gpu.Default\n",
    "let lp = LaunchParam(16, 256)\n",
    "let darg1 = gpu.Allocate(harg1)\n",
    "let darg2 = gpu.Allocate(harg2)\n",
    "let dresult = gpu.Allocate<int>(length)\n",
    "gpu.Launch kernel lp dresult darg1 darg2\n",
    "let actual = Gpu.CopyToHost(dresult)\n",
    "\n",
    "Gpu.Free(darg1)\n",
    "Gpu.Free(darg2)\n",
    "Gpu.Free(dresult)\n",
    "\n",
    "actual"
   ]
  },
  {
   "cell_type": "code",
   "execution_count": 10,
   "metadata": {
    "collapsed": false
   },
   "outputs": [
    {
     "data": {
      "text/plain": [
       "<null>"
      ]
     },
     "execution_count": 10,
     "metadata": {},
     "output_type": "execute_result"
    }
   ],
   "source": [
    "let expected = (harg1, harg2) ||> Array.map2 (fun a b -> a + b)\n",
    "Assert.That(actual, Is.EqualTo(expected))"
   ]
  },
  {
   "cell_type": "code",
   "execution_count": null,
   "metadata": {
    "collapsed": true
   },
   "outputs": [],
   "source": []
  }
 ],
 "metadata": {
  "kernelspec": {
   "display_name": "F#",
   "language": "fsharp",
   "name": "ifsharp"
  },
  "language": "fsharp",
  "language_info": {
   "codemirror_mode": "",
   "file_extension": ".fs",
   "mimetype": "text/x-fsharp",
   "name": "fsharp",
   "nbconvert_exporter": "",
   "pygments_lexer": "",
   "version": "4.3.1.0"
  }
 },
 "nbformat": 4,
 "nbformat_minor": 0
}
