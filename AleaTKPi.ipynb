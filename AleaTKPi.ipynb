{
 "cells": [
  {
   "cell_type": "code",
   "execution_count": 3,
   "metadata": {
    "collapsed": false
   },
   "outputs": [
    {
     "data": {
      "text/plain": [
       "<null>"
      ]
     },
     "execution_count": 3,
     "metadata": {},
     "output_type": "execute_result"
    }
   ],
   "source": [
    "#load \"Paket.fsx\"\n",
    "Paket.Package [\"AleaTK\"; \"NUnit\"]"
   ]
  },
  {
   "cell_type": "code",
   "execution_count": 4,
   "metadata": {
    "collapsed": false
   },
   "outputs": [],
   "source": [
    "#load \"packages/Alea/Alea.fsx\"\n",
    "#r \"packages/Alea/lib/net45/Alea.Parallel.dll\"\n",
    "#r \"packages/AleaTK/lib/net40/AleaTK.dll\"\n",
    "#r \"packages/NUnit/lib/net45/nunit.framework.dll\""
   ]
  },
  {
   "cell_type": "code",
   "execution_count": 5,
   "metadata": {
    "collapsed": false
   },
   "outputs": [],
   "source": [
    "open Alea\n",
    "open AleaTK\n",
    "\n",
    "let ctx = AleaTK.Context.GpuContext(0)\n",
    "let batchs = 5\n",
    "let batchSize = 100000UL\n",
    "let error = 1e-2\n",
    "let seed = 0UL"
   ]
  },
  {
   "cell_type": "code",
   "execution_count": 6,
   "metadata": {
    "collapsed": true
   },
   "outputs": [],
   "source": [
    "let points = ctx.Device.Allocate<double2>(Shape.Create(int64 batchSize))\n",
    "let pi = ctx.Device.Allocate<float>(Shape.Scalar)"
   ]
  },
  {
   "cell_type": "code",
   "execution_count": 2,
   "metadata": {
    "collapsed": false
   },
   "outputs": [
    {
     "name": "stderr",
     "output_type": "stream",
     "text": [
      "input.fsx(1,23): error FS0039: The type 'double2' is not defined"
     ]
    }
   ],
   "source": [
    "let f = <@ fun (point:double2) -> if (point.x * point.x + point.y * point.y) < 1.0 then 4.0 else 0.0 @>\n",
    "let pis = Library.Map(points, (fun points -> __eval(f) points))"
   ]
  },
  {
   "cell_type": "code",
   "execution_count": 7,
   "metadata": {
    "collapsed": false
   },
   "outputs": [
    {
     "data": {
      "text/plain": [
       "System.Threading.Tasks.Task"
      ]
     },
     "execution_count": 7,
     "metadata": {},
     "output_type": "execute_result"
    }
   ],
   "source": [
    "ctx.Assign(points, Library.RandomUniform<double2>())"
   ]
  },
  {
   "cell_type": "code",
   "execution_count": 8,
   "metadata": {
    "collapsed": false
   },
   "outputs": [
    {
     "name": "stderr",
     "output_type": "stream",
     "text": [
      "System.AggregateException: One or more errors occurred. ---> System.AggregateException: One or more errors occurred. ---> System.Exception: Value was either too large or too small for a UInt16.\r\n",
      "Source location stack:\r\n",
      "-> at FSI_0011+pis@3.[Double Invoke(Alea.double2)]\r\n",
      "-> at AleaTK.ExprImpl.Map1Expr`2+<>c__DisplayClass10_0[Alea.double2,System.Double].[Double <GenerateRValue>b__0(Int64)]\r\n",
      "-> at AleaTK.ExprImpl.ReduceExpr`1+<>c__DisplayClass13_0[System.Double].[Double <Execute>b__0(Int32)]\r\n",
      "-> at Alea.Parallel.Agent.AgentReduce.[Void ConsumeTile[Double](Alea.Constant`1[System.Boolean], Double ByRef, Int32, System.Func`2[System.Int32,System.Double], System.Func`3[System.Double,System.Double,System.Double], Int32)]\r\n",
      "-> at Alea.Parallel.Agent.AgentReduce.[Double ConsumeRange[Double](Alea.deviceptr`1[System.Byte], Int32, Int32, System.Func`2[System.Int32,System.Double], System.Func`3[System.Double,System.Double,System.Double])]\r\n",
      "-> at Alea.Parallel.Agent.AgentReduce.[Double ConsumeRange[Double](Alea.deviceptr`1[System.Byte], Alea.Parallel.Grid.GridEvenShare, System.Func`2[System.Int32,System.Double], System.Func`3[System.Double,System.Double,System.Double])]\r\n",
      "-> at Alea.Parallel.Device.DeviceReduce.[Void RangeReduceKernel[Double](Alea.Constant`1[Alea.Parallel.Agent.AgentReduce], Alea.Parallel.Grid.GridEvenShare, System.Func`2[System.Int32,System.Double], System.Action`2[System.Int32,System.Double], System.Func`3[System.Double,System.Double,System.Double])]\r\n",
      "-> at defining runtime64 (sm30,64bit)\r\n",
      "Loading method as kernel:\r\n",
      "-> Method: Alea.Parallel.Device.DeviceReduce.[Void RangeReduceKernel[Double](Alea.Constant`1[Alea.Parallel.Agent.AgentReduce], Alea.Parallel.Grid.GridEvenShare, System.Func`2[System.Int32,System.Double], System.Action`2[System.Int32,System.Double], System.Func`3[System.Double,System.Double,System.Double])]\r\n",
      "-> InstanceOpt: <None>\r\n",
      "-> Argument.#0: Alea.Parallel.Agent.AgentReduce\r\n",
      "-> Argument.#1: ============\r\n",
      "NumItems = 0\r\n",
      "TotalGrains = 0\r\n",
      "GridSize = 0\r\n",
      "BlockOffset = 0\r\n",
      "BlockEnd = 0\r\n",
      "============\r\n",
      "-> Argument.#2: System.Func`2[System.Int32,System.Double]\r\n",
      "-> Argument.#3: System.Action`2[System.Int32,System.Double]\r\n",
      "-> Argument.#4: System.Func`3[System.Double,System.Double,System.Double]\r\n",
      "Getting or loading method as kernel:\r\n",
      "-> Method: Alea.Parallel.Device.DeviceReduce.[Void RangeReduceKernel[Double](Alea.Constant`1[Alea.Parallel.Agent.AgentReduce], Alea.Parallel.Grid.GridEvenShare, System.Func`2[System.Int32,System.Double], System.Action`2[System.Int32,System.Double], System.Func`3[System.Double,System.Double,System.Double])]\r\n",
      "-> InstanceOpt: <None>\r\n",
      "-> Argument.#0: Alea.Parallel.Agent.AgentReduce\r\n",
      "-> Argument.#1: ============\r\n",
      "NumItems = 0\r\n",
      "TotalGrains = 0\r\n",
      "GridSize = 0\r\n",
      "BlockOffset = 0\r\n",
      "BlockEnd = 0\r\n",
      "============\r\n",
      "\r\n",
      "-> Argument.#2: System.Func`2[System.Int32,System.Double]\r\n",
      "-> Argument.#3: System.Action`2[System.Int32,System.Double]\r\n",
      "-> Argument.#4: System.Func`3[System.Double,System.Double,System.Double]\r\n",
      "\r\n",
      "   at Alea.Gpu.GetOrLoad(MethodInfo kernelMethodInfo, FSharpOption`1 instanceOpt, FSharpList`1 arguments)\r\n",
      "   at Alea.Parallel.Device.DeviceReduce.Reduce[TAccmulate](Stream stream, deviceptr`1 tempStorage, Int32& tempStorageSize, Int32 numItems, Func`2 sourceOp, Action`2 outputOp, Func`3 reductionOp)\r\n",
      "   at AleaTK.ExprImpl.ReduceExpr`1.Execute(Assignment assignment, ILValue`1 output)\r\n",
      "   at AleaTK.LExpr`1.Execute(Assignment assignment)\r\n",
      "   at System.Threading.Tasks.Task.Execute()\r\n",
      "   --- End of inner exception stack trace ---\r\n",
      "   at System.Threading.Tasks.Task.ThrowIfExceptional(Boolean includeTaskCanceledExceptions)\r\n",
      "   at System.Threading.Tasks.Task.Wait(Int32 millisecondsTimeout, CancellationToken cancellationToken)\r\n",
      "   at AleaTK.Assignment.GetInput[T](Expr`1 operand)\r\n",
      "   at AleaTK.ExprImpl.Map2Expr`3.GenerateRValue(Assignment assignment)\r\n",
      "   at AleaTK.RExpr`1.Execute(Assignment assignment)\r\n",
      "   at System.Threading.Tasks.Task.Execute()\r\n",
      "   --- End of inner exception stack trace ---\r\n",
      "   at System.Threading.Tasks.Task.ThrowIfExceptional(Boolean includeTaskCanceledExceptions)\r\n",
      "   at System.Threading.Tasks.Task.Wait(Int32 millisecondsTimeout, CancellationToken cancellationToken)\r\n",
      "   at AleaTK.Assignment.Run()\r\n",
      "   at <StartupCode$FSI_0014>.$FSI_0014.main@()\r\n",
      "---> (Inner Exception #0) System.AggregateException: One or more errors occurred. ---> System.Exception: Value was either too large or too small for a UInt16.\r\n",
      "Source location stack:\r\n",
      "-> at FSI_0011+pis@3.[Double Invoke(Alea.double2)]\r\n",
      "-> at AleaTK.ExprImpl.Map1Expr`2+<>c__DisplayClass10_0[Alea.double2,System.Double].[Double <GenerateRValue>b__0(Int64)]\r\n",
      "-> at AleaTK.ExprImpl.ReduceExpr`1+<>c__DisplayClass13_0[System.Double].[Double <Execute>b__0(Int32)]\r\n",
      "-> at Alea.Parallel.Agent.AgentReduce.[Void ConsumeTile[Double](Alea.Constant`1[System.Boolean], Double ByRef, Int32, System.Func`2[System.Int32,System.Double], System.Func`3[System.Double,System.Double,System.Double], Int32)]\r\n",
      "-> at Alea.Parallel.Agent.AgentReduce.[Double ConsumeRange[Double](Alea.deviceptr`1[System.Byte], Int32, Int32, System.Func`2[System.Int32,System.Double], System.Func`3[System.Double,System.Double,System.Double])]\r\n",
      "-> at Alea.Parallel.Agent.AgentReduce.[Double ConsumeRange[Double](Alea.deviceptr`1[System.Byte], Alea.Parallel.Grid.GridEvenShare, System.Func`2[System.Int32,System.Double], System.Func`3[System.Double,System.Double,System.Double])]\r\n",
      "-> at Alea.Parallel.Device.DeviceReduce.[Void RangeReduceKernel[Double](Alea.Constant`1[Alea.Parallel.Agent.AgentReduce], Alea.Parallel.Grid.GridEvenShare, System.Func`2[System.Int32,System.Double], System.Action`2[System.Int32,System.Double], System.Func`3[System.Double,System.Double,System.Double])]\r\n",
      "-> at defining runtime64 (sm30,64bit)\r\n",
      "Loading method as kernel:\r\n",
      "-> Method: Alea.Parallel.Device.DeviceReduce.[Void RangeReduceKernel[Double](Alea.Constant`1[Alea.Parallel.Agent.AgentReduce], Alea.Parallel.Grid.GridEvenShare, System.Func`2[System.Int32,System.Double], System.Action`2[System.Int32,System.Double], System.Func`3[System.Double,System.Double,System.Double])]\r\n",
      "-> InstanceOpt: <None>\r\n",
      "-> Argument.#0: Alea.Parallel.Agent.AgentReduce\r\n",
      "-> Argument.#1: ============\r\n",
      "NumItems = 0\r\n",
      "TotalGrains = 0\r\n",
      "GridSize = 0\r\n",
      "BlockOffset = 0\r\n",
      "BlockEnd = 0\r\n",
      "============\r\n",
      "-> Argument.#2: System.Func`2[System.Int32,System.Double]\r\n",
      "-> Argument.#3: System.Action`2[System.Int32,System.Double]\r\n",
      "-> Argument.#4: System.Func`3[System.Double,System.Double,System.Double]\r\n",
      "Getting or loading method as kernel:\r\n",
      "-> Method: Alea.Parallel.Device.DeviceReduce.[Void RangeReduceKernel[Double](Alea.Constant`1[Alea.Parallel.Agent.AgentReduce], Alea.Parallel.Grid.GridEvenShare, System.Func`2[System.Int32,System.Double], System.Action`2[System.Int32,System.Double], System.Func`3[System.Double,System.Double,System.Double])]\r\n",
      "-> InstanceOpt: <None>\r\n",
      "-> Argument.#0: Alea.Parallel.Agent.AgentReduce\r\n",
      "-> Argument.#1: ============\r\n",
      "NumItems = 0\r\n",
      "TotalGrains = 0\r\n",
      "GridSize = 0\r\n",
      "BlockOffset = 0\r\n",
      "BlockEnd = 0\r\n",
      "============\r\n",
      "\r\n",
      "-> Argument.#2: System.Func`2[System.Int32,System.Double]\r\n",
      "-> Argument.#3: System.Action`2[System.Int32,System.Double]\r\n",
      "-> Argument.#4: System.Func`3[System.Double,System.Double,System.Double]\r\n",
      "\r\n",
      "   at Alea.Gpu.GetOrLoad(MethodInfo kernelMethodInfo, FSharpOption`1 instanceOpt, FSharpList`1 arguments)\r\n",
      "   at Alea.Parallel.Device.DeviceReduce.Reduce[TAccmulate](Stream stream, deviceptr`1 tempStorage, Int32& tempStorageSize, Int32 numItems, Func`2 sourceOp, Action`2 outputOp, Func`3 reductionOp)\r\n",
      "   at AleaTK.ExprImpl.ReduceExpr`1.Execute(Assignment assignment, ILValue`1 output)\r\n",
      "   at AleaTK.LExpr`1.Execute(Assignment assignment)\r\n",
      "   at System.Threading.Tasks.Task.Execute()\r\n",
      "   --- End of inner exception stack trace ---\r\n",
      "   at System.Threading.Tasks.Task.ThrowIfExceptional(Boolean includeTaskCanceledExceptions)\r\n",
      "   at System.Threading.Tasks.Task.Wait(Int32 millisecondsTimeout, CancellationToken cancellationToken)\r\n",
      "   at AleaTK.Assignment.GetInput[T](Expr`1 operand)\r\n",
      "   at AleaTK.ExprImpl.Map2Expr`3.GenerateRValue(Assignment assignment)\r\n",
      "   at AleaTK.RExpr`1.Execute(Assignment assignment)\r\n",
      "   at System.Threading.Tasks.Task.Execute()\r\n",
      "---> (Inner Exception #0) System.Exception: Value was either too large or too small for a UInt16.\r\n",
      "Source location stack:\r\n",
      "-> at FSI_0011+pis@3.[Double Invoke(Alea.double2)]\r\n",
      "-> at AleaTK.ExprImpl.Map1Expr`2+<>c__DisplayClass10_0[Alea.double2,System.Double].[Double <GenerateRValue>b__0(Int64)]\r\n",
      "-> at AleaTK.ExprImpl.ReduceExpr`1+<>c__DisplayClass13_0[System.Double].[Double <Execute>b__0(Int32)]\r\n",
      "-> at Alea.Parallel.Agent.AgentReduce.[Void ConsumeTile[Double](Alea.Constant`1[System.Boolean], Double ByRef, Int32, System.Func`2[System.Int32,System.Double], System.Func`3[System.Double,System.Double,System.Double], Int32)]\r\n",
      "-> at Alea.Parallel.Agent.AgentReduce.[Double ConsumeRange[Double](Alea.deviceptr`1[System.Byte], Int32, Int32, System.Func`2[System.Int32,System.Double], System.Func`3[System.Double,System.Double,System.Double])]\r\n",
      "-> at Alea.Parallel.Agent.AgentReduce.[Double ConsumeRange[Double](Alea.deviceptr`1[System.Byte], Alea.Parallel.Grid.GridEvenShare, System.Func`2[System.Int32,System.Double], System.Func`3[System.Double,System.Double,System.Double])]\r\n",
      "-> at Alea.Parallel.Device.DeviceReduce.[Void RangeReduceKernel[Double](Alea.Constant`1[Alea.Parallel.Agent.AgentReduce], Alea.Parallel.Grid.GridEvenShare, System.Func`2[System.Int32,System.Double], System.Action`2[System.Int32,System.Double], System.Func`3[System.Double,System.Double,System.Double])]\r\n",
      "-> at defining runtime64 (sm30,64bit)\r\n",
      "Loading method as kernel:\r\n",
      "-> Method: Alea.Parallel.Device.DeviceReduce.[Void RangeReduceKernel[Double](Alea.Constant`1[Alea.Parallel.Agent.AgentReduce], Alea.Parallel.Grid.GridEvenShare, System.Func`2[System.Int32,System.Double], System.Action`2[System.Int32,System.Double], System.Func`3[System.Double,System.Double,System.Double])]\r\n",
      "-> InstanceOpt: <None>\r\n",
      "-> Argument.#0: Alea.Parallel.Agent.AgentReduce\r\n",
      "-> Argument.#1: ============\r\n",
      "NumItems = 0\r\n",
      "TotalGrains = 0\r\n",
      "GridSize = 0\r\n",
      "BlockOffset = 0\r\n",
      "BlockEnd = 0\r\n",
      "============\r\n",
      "-> Argument.#2: System.Func`2[System.Int32,System.Double]\r\n",
      "-> Argument.#3: System.Action`2[System.Int32,System.Double]\r\n",
      "-> Argument.#4: System.Func`3[System.Double,System.Double,System.Double]\r\n",
      "Getting or loading method as kernel:\r\n",
      "-> Method: Alea.Parallel.Device.DeviceReduce.[Void RangeReduceKernel[Double](Alea.Constant`1[Alea.Parallel.Agent.AgentReduce], Alea.Parallel.Grid.GridEvenShare, System.Func`2[System.Int32,System.Double], System.Action`2[System.Int32,System.Double], System.Func`3[System.Double,System.Double,System.Double])]\r\n",
      "-> InstanceOpt: <None>\r\n",
      "-> Argument.#0: Alea.Parallel.Agent.AgentReduce\r\n",
      "-> Argument.#1: ============\r\n",
      "NumItems = 0\r\n",
      "TotalGrains = 0\r\n",
      "GridSize = 0\r\n",
      "BlockOffset = 0\r\n",
      "BlockEnd = 0\r\n",
      "============\r\n",
      "\r\n",
      "-> Argument.#2: System.Func`2[System.Int32,System.Double]\r\n",
      "-> Argument.#3: System.Action`2[System.Int32,System.Double]\r\n",
      "-> Argument.#4: System.Func`3[System.Double,System.Double,System.Double]\r\n",
      "\r\n",
      "   at Alea.Gpu.GetOrLoad(MethodInfo kernelMethodInfo, FSharpOption`1 instanceOpt, FSharpList`1 arguments)\r\n",
      "   at Alea.Parallel.Device.DeviceReduce.Reduce[TAccmulate](Stream stream, deviceptr`1 tempStorage, Int32& tempStorageSize, Int32 numItems, Func`2 sourceOp, Action`2 outputOp, Func`3 reductionOp)\r\n",
      "   at AleaTK.ExprImpl.ReduceExpr`1.Execute(Assignment assignment, ILValue`1 output)\r\n",
      "   at AleaTK.LExpr`1.Execute(Assignment assignment)\r\n",
      "   at System.Threading.Tasks.Task.Execute()<---\r\n",
      "<---\r\n",
      "\r\n",
      "Stopped due to error"
     ]
    }
   ],
   "source": [
    "ctx.Assign(pi, Library.ReduceMean(pis))  // has some bug"
   ]
  },
  {
   "cell_type": "code",
   "execution_count": null,
   "metadata": {
    "collapsed": true
   },
   "outputs": [],
   "source": []
  }
 ],
 "metadata": {
  "kernelspec": {
   "display_name": "F#",
   "language": "fsharp",
   "name": "ifsharp"
  },
  "language": "fsharp",
  "language_info": {
   "codemirror_mode": "",
   "file_extension": ".fs",
   "mimetype": "text/x-fsharp",
   "name": "fsharp",
   "nbconvert_exporter": "",
   "pygments_lexer": "",
   "version": "4.3.1.0"
  }
 },
 "nbformat": 4,
 "nbformat_minor": 0
}
