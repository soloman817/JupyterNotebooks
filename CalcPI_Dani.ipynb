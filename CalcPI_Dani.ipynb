{
 "cells": [
  {
   "cell_type": "code",
   "execution_count": 1,
   "metadata": {
    "collapsed": false
   },
   "outputs": [
    {
     "data": {
      "text/plain": [
       "<null>"
      ]
     },
     "execution_count": 1,
     "metadata": {},
     "output_type": "execute_result"
    }
   ],
   "source": [
    "#load \"Paket.fsx\"\n",
    "Paket.Version [ (\"Alea\", \"3.1.0-beta1\") ]\n",
    "Paket.Package [ \"NUnit\" ]"
   ]
  },
  {
   "cell_type": "code",
   "execution_count": 2,
   "metadata": {
    "collapsed": true
   },
   "outputs": [],
   "source": [
    "#load \"packages/Alea/Alea.fsx\"\n",
    "#r \"packages/Alea/lib/net45/Alea.Parallel.dll\"\n",
    "#r \"packages/NUnit/lib/net45/nunit.framework.dll\""
   ]
  },
  {
   "cell_type": "code",
   "execution_count": 3,
   "metadata": {
    "collapsed": false
   },
   "outputs": [
    {
     "data": {
      "text/plain": [
       "[0|6.0|Tesla P100-PCIE-16GB]"
      ]
     },
     "execution_count": 3,
     "metadata": {},
     "output_type": "execute_result"
    }
   ],
   "source": [
    "open System\n",
    "open Alea\n",
    "open Alea.CSharp\n",
    "open Alea.Parallel\n",
    "\n",
    "let gpu = Gpu.Default\n",
    "gpu"
   ]
  },
  {
   "cell_type": "code",
   "execution_count": 25,
   "metadata": {
    "collapsed": true
   },
   "outputs": [],
   "source": [
    "let calcPI_1 verbose rng seed batchSize batchs =\n",
    "    let t = System.Diagnostics.Stopwatch.StartNew()\n",
    "    use session = new Session(gpu)\n",
    "    session.SetRandomType(rng)\n",
    "    session.SetRandomSeed(seed)\n",
    "    let points = session.Allocate<double2>(batchSize)\n",
    "    let values = session.Allocate<float>(batchSize)\n",
    "    let pis = session.Allocate<float>(batchs)\n",
    "\n",
    "    for iBatch = 1 to batchs do\n",
    "        // generate random numbers\n",
    "        let offset = (uint64 batchSize) * (uint64 iBatch)\n",
    "        session.RandomUniform(points, offset)\n",
    "        \n",
    "        session.For(0, batchSize, (fun i ->\n",
    "            let point = points.[i]\n",
    "            let d = point.x * point.x + point.y * point.y\n",
    "            values.[i] <- if d < 1.0 then 4.0 else 0.0))\n",
    "\n",
    "        session.Aggregate(batchSize,\n",
    "                         (fun i -> values.[i]),\n",
    "                         (fun value -> pis.[iBatch - 1] <- value / (float batchSize)),\n",
    "                         (fun a b -> a + b))\n",
    "\n",
    "    let pis = Gpu.CopyToHost(pis)\n",
    "    let pi = pis |> Array.average\n",
    "    t.Stop()\n",
    "\n",
    "    if verbose then\n",
    "        printfn \"%A\" pis\n",
    "        printfn \"PI = %f, %A\" pi t.Elapsed\n",
    "\n",
    "    pi, t.Elapsed, ((pis |> Array.distinct).Length)"
   ]
  },
  {
   "cell_type": "code",
   "execution_count": 26,
   "metadata": {
    "collapsed": true
   },
   "outputs": [],
   "source": [
    "let calcPI_2 verbose rng seed batchSize batchs =\n",
    "    let t = System.Diagnostics.Stopwatch.StartNew()\n",
    "    use session = new Session(gpu)\n",
    "    session.SetRandomType(rng)\n",
    "    session.SetRandomSeed(seed)\n",
    "    let points = session.Allocate<double2>(batchSize)\n",
    "    let pis = session.Allocate<float>(batchs)\n",
    "\n",
    "    for iBatch = 1 to batchs do\n",
    "        // generate random numbers\n",
    "        let offset = (uint64 batchSize) * (uint64 iBatch)\n",
    "        session.RandomUniform(points, offset)\n",
    "\n",
    "        session.Aggregate(batchSize,\n",
    "                         (fun i ->\n",
    "                            let point = points.[i]\n",
    "                            let d = point.x * point.x + point.y * point.y\n",
    "                            if d < 1.0 then 4.0 else 0.0),\n",
    "                         (fun value -> pis.[iBatch - 1] <- value / (float batchSize)),\n",
    "                         (fun a b -> a + b))\n",
    "\n",
    "    let pis = Gpu.CopyToHost(pis)\n",
    "    let pi = pis |> Array.average\n",
    "    t.Stop()\n",
    "\n",
    "    if verbose then\n",
    "        printfn \"%A\" pis\n",
    "        printfn \"PI = %f, %A\" pi t.Elapsed\n",
    "\n",
    "    pi, t.Elapsed, ((pis |> Array.distinct).Length)\n"
   ]
  },
  {
   "cell_type": "code",
   "execution_count": 31,
   "metadata": {
    "collapsed": false
   },
   "outputs": [],
   "source": [
    "let calcPI rng =\n",
    "    let batchs = 50\n",
    "    let batchSize = 10000000\n",
    "    let seed = 1UL\n",
    "    let pi1, t1, l1 = calcPI_1 false rng seed batchSize batchs\n",
    "    let pi2, t2, l2 = calcPI_2 false rng seed batchSize batchs\n",
    "    sprintf \"%.8f [%A|%d] %.8f [%A|%d]\" pi1 t1 l1 pi2 t2 l2"
   ]
  },
  {
   "cell_type": "code",
   "execution_count": 32,
   "metadata": {
    "collapsed": false
   },
   "outputs": [
    {
     "data": {
      "text/plain": [
       "\"3.14161200 [00:00:08.3936840|50] 3.14161200 [00:00:08.4166988|50]\""
      ]
     },
     "execution_count": 32,
     "metadata": {},
     "output_type": "execute_result"
    }
   ],
   "source": [
    "calcPI cuRAND.RngType.PSEUDO_DEFAULT"
   ]
  },
  {
   "cell_type": "code",
   "execution_count": 33,
   "metadata": {
    "collapsed": false
   },
   "outputs": [
    {
     "data": {
      "text/plain": [
       "\"3.14161200 [00:00:08.3430636|50] 3.14161200 [00:00:08.4902345|50]\""
      ]
     },
     "execution_count": 33,
     "metadata": {},
     "output_type": "execute_result"
    }
   ],
   "source": [
    "calcPI cuRAND.RngType.PSEUDO_DEFAULT"
   ]
  },
  {
   "cell_type": "code",
   "execution_count": 34,
   "metadata": {
    "collapsed": false
   },
   "outputs": [
    {
     "data": {
      "text/plain": [
       "\"3.14167326 [00:00:02.8268253|50] 3.14167326 [00:00:03.2572815|50]\""
      ]
     },
     "execution_count": 34,
     "metadata": {},
     "output_type": "execute_result"
    }
   ],
   "source": [
    "calcPI cuRAND.RngType.PSEUDO_MRG32K3A"
   ]
  },
  {
   "cell_type": "code",
   "execution_count": 35,
   "metadata": {
    "collapsed": false
   },
   "outputs": [
    {
     "data": {
      "text/plain": [
       "\"3.14147120 [00:00:00.9797533|1] 3.14147120 [00:00:01.4185882|1]\""
      ]
     },
     "execution_count": 35,
     "metadata": {},
     "output_type": "execute_result"
    }
   ],
   "source": [
    "calcPI cuRAND.RngType.PSEUDO_PHILOX4_32_10"
   ]
  },
  {
   "cell_type": "code",
   "execution_count": null,
   "metadata": {
    "collapsed": true
   },
   "outputs": [],
   "source": []
  }
 ],
 "metadata": {
  "anaconda-cloud": {},
  "kernelspec": {
   "display_name": "F#",
   "language": "fsharp",
   "name": "ifsharp"
  },
  "language": "fsharp",
  "language_info": {
   "codemirror_mode": "",
   "file_extension": ".fs",
   "mimetype": "text/x-fsharp",
   "name": "fsharp",
   "nbconvert_exporter": "",
   "pygments_lexer": "",
   "version": "4.3.1.0"
  }
 },
 "nbformat": 4,
 "nbformat_minor": 0
}
